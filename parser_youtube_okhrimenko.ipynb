{
 "cells": [
  {
   "cell_type": "markdown",
   "metadata": {},
   "source": [
    "# Парсинг и анализ ютьюб-канала Alexander Okhrimenko\n",
    "\n",
    "https://www.youtube.com/channel/UCKDQVR8JJGalvEZBmOfnKhw\n",
    "\n",
    "Использованы данные за октябрь-декабрь 2017 года (всего 108 видео из списка \"ВСЕ ВИДЕО\")."
   ]
  },
  {
   "cell_type": "code",
   "execution_count": 1,
   "metadata": {
    "collapsed": true
   },
   "outputs": [],
   "source": [
    "# Загрузка библиотек\n",
    "import requests\n",
    "from bs4 import BeautifulSoup\n",
    "import re\n",
    "import numpy as np\n",
    "import pandas as pd\n",
    "import seaborn as sns\n",
    "import matplotlib.pyplot as plt\n",
    "import matplotlib as mpl\n",
    "import warnings\n",
    "import time\n",
    "from scipy.stats import ttest_ind, spearmanr, pearsonr\n",
    "warnings.filterwarnings('ignore')\n",
    "plt.style.use('seaborn-poster')"
   ]
  },
  {
   "cell_type": "markdown",
   "metadata": {},
   "source": [
    "## Парсинг"
   ]
  },
  {
   "cell_type": "code",
   "execution_count": 14,
   "metadata": {
    "collapsed": true
   },
   "outputs": [],
   "source": [
    "# Ссылка на список видео\n",
    "link_list = 'https://www.youtube.com/watch?v=FYJ_3GayJPk&list=PL0Z7vG3iXEI9CR_YxqCCVySg2veeY3DdL'\n",
    "\n",
    "# Парсинг списка\n",
    "html = urllib.request.urlopen(link_list)\n",
    "html = BeautifulSoup(html)\n",
    "\n",
    "# Сохранение ID и заголовка видео в датасет\n",
    "video_id = []\n",
    "title = []\n",
    "for i in re.findall('data-video-id=\\\".*\\\"', str(html)):\n",
    "    video_id.append(re.sub('^data-video-id=\\\"|\" data-video-title.*', '', i))\n",
    "    title.append(re.sub('.*data-video-title=.|. data-video-username.*', '', i))   \n",
    "df = pd.DataFrame({\n",
    "    'video_id': video_id,\n",
    "    'title': title\n",
    "})"
   ]
  },
  {
   "cell_type": "code",
   "execution_count": 89,
   "metadata": {
    "collapsed": true
   },
   "outputs": [],
   "source": [
    "# Добавление колонок\n",
    "df['views'] = 'NULL'\n",
    "df['likes'] = 'NULL'\n",
    "df['dislikes'] = 'NULL'\n",
    "df['date'] = 'NULL'\n",
    "df['tags'] = 'NULL'"
   ]
  },
  {
   "cell_type": "code",
   "execution_count": 123,
   "metadata": {
    "collapsed": true
   },
   "outputs": [],
   "source": [
    "# Подделка заголовка\n",
    "session = requests.Session()\n",
    "headers = {\"User-Agent\":\"Mozilla/5.0 (Macintosh; Intel Mac OS X 10_9_5) AppleWebKit 537.36 (KHTML, like Gecko) Chrome\",\n",
    "           \"Accept\":\"text/html,application/xhtml+xml,application/xml; q=0.9,image/webp,*/*;q=0.8\"}"
   ]
  },
  {
   "cell_type": "code",
   "execution_count": 126,
   "metadata": {
    "collapsed": true
   },
   "outputs": [],
   "source": [
    "# Парсинг\n",
    "for i in df.video_id[6:]:\n",
    "    time.sleep(3)\n",
    "    html = session.get(str('https://www.youtube.com/watch?v='+str(i)), headers=headers)\n",
    "    html = BeautifulSoup(html.text)\n",
    "    df.views[df.video_id==i] = ''.join(re.findall('\\d', re.sub(r'.*watch-view-count\\\">| прос.*', '', \n",
    "                                                               str(html.find_all('div', class_='watch-view-count')))))   \n",
    "    df.likes[df.video_id==i] = re.sub('.*yt-uix-button-content\\\">|</span>', '', \n",
    "                                      str(html.find('button', \n",
    "                                                    class_='yt-uix-button yt-uix-button-size-default yt-uix-button-opacity yt-uix-button-has-icon no-icon-markup like-button-renderer-like-button like-button-renderer-like-button-unclicked yt-uix-clickcard-target yt-uix-tooltip').find('span', \n",
    "                                                    class_='yt-uix-button-content')))\n",
    "    df.dislikes[df.video_id==i] = re.sub('.*yt-uix-button-content\\\">|</span>', '', \n",
    "                                         str(html.find('button', \n",
    "                                                       class_='yt-uix-button yt-uix-button-size-default yt-uix-button-opacity yt-uix-button-has-icon no-icon-markup like-button-renderer-dislike-button like-button-renderer-dislike-button-unclicked yt-uix-clickcard-target yt-uix-tooltip').find('span', \n",
    "                                                       class_='yt-uix-button-content')))\n",
    "    df.tags[df.video_id==i] = re.sub('.*content=.|. name.*', '', \n",
    "                                     str(re.findall('<meta content=\\\".*\\\" name=\\\"keywords\\\"/>', str(html))))\n",
    "    df.date[df.video_id==i] = re.sub('.*Опубликовано: | г.*', '', str(html.find_all('strong', class_='watch-time-text')))"
   ]
  },
  {
   "cell_type": "code",
   "execution_count": 130,
   "metadata": {
    "collapsed": true
   },
   "outputs": [],
   "source": [
    "# Сохранение датасета\n",
    "df.to_csv('../data/youtube_okhrimenko.csv', index=False)"
   ]
  },
  {
   "cell_type": "markdown",
   "metadata": {},
   "source": [
    "## Обработка данных"
   ]
  },
  {
   "cell_type": "code",
   "execution_count": 2,
   "metadata": {},
   "outputs": [
    {
     "name": "stdout",
     "output_type": "stream",
     "text": [
      "<class 'pandas.core.frame.DataFrame'>\n",
      "RangeIndex: 108 entries, 0 to 107\n",
      "Data columns (total 7 columns):\n",
      "title       108 non-null object\n",
      "video_id    108 non-null object\n",
      "views       108 non-null int64\n",
      "likes       108 non-null int64\n",
      "dislikes    108 non-null int64\n",
      "date        108 non-null object\n",
      "tags        108 non-null object\n",
      "dtypes: int64(3), object(4)\n",
      "memory usage: 6.0+ KB\n"
     ]
    }
   ],
   "source": [
    "# Загрузка датасета\n",
    "df = pd.read_csv('../data/youtube_okhrimenko.csv')\n",
    "df.info()"
   ]
  },
  {
   "cell_type": "code",
   "execution_count": 3,
   "metadata": {
    "collapsed": true
   },
   "outputs": [],
   "source": [
    "# Форматирование даты\n",
    "df.date = df.date.str.replace('^.*Прямой эфир: |$', '')\n",
    "df.date = df.date.str.replace(' окт. ', '-10-')\n",
    "df.date = df.date.str.replace(' нояб. ', '-11-')\n",
    "df.date = df.date.str.replace(' дек. ', '-12-')\n",
    "df.date = pd.to_datetime(df.date, format='%d-%m-%Y')"
   ]
  },
  {
   "cell_type": "code",
   "execution_count": 4,
   "metadata": {
    "collapsed": true
   },
   "outputs": [],
   "source": [
    "# Вычисление доли дизлайков\n",
    "df['dislikes_per'] = round(df.dislikes/(df.likes+df.dislikes), 2)"
   ]
  },
  {
   "cell_type": "code",
   "execution_count": 130,
   "metadata": {},
   "outputs": [
    {
     "data": {
      "text/html": [
       "<div>\n",
       "<style>\n",
       "    .dataframe thead tr:only-child th {\n",
       "        text-align: right;\n",
       "    }\n",
       "\n",
       "    .dataframe thead th {\n",
       "        text-align: left;\n",
       "    }\n",
       "\n",
       "    .dataframe tbody tr th {\n",
       "        vertical-align: top;\n",
       "    }\n",
       "</style>\n",
       "<table border=\"1\" class=\"dataframe\">\n",
       "  <thead>\n",
       "    <tr style=\"text-align: right;\">\n",
       "      <th></th>\n",
       "      <th>title</th>\n",
       "      <th>video_id</th>\n",
       "      <th>views</th>\n",
       "      <th>likes</th>\n",
       "      <th>dislikes</th>\n",
       "      <th>date</th>\n",
       "      <th>tags</th>\n",
       "      <th>dislikes_per</th>\n",
       "    </tr>\n",
       "  </thead>\n",
       "  <tbody>\n",
       "    <tr>\n",
       "      <th>0</th>\n",
       "      <td>Статистика просмотров видео \"Пару слов о Москв...</td>\n",
       "      <td>FYJ_3GayJPk</td>\n",
       "      <td>1651</td>\n",
       "      <td>146</td>\n",
       "      <td>9</td>\n",
       "      <td>2017-12-17</td>\n",
       "      <td>Украина, Охрименко, Россия, видео, анализ</td>\n",
       "      <td>0.06</td>\n",
       "    </tr>\n",
       "    <tr>\n",
       "      <th>1</th>\n",
       "      <td>Динамика роста/уменьшение населения Украины и ...</td>\n",
       "      <td>3C10V3DW2v0</td>\n",
       "      <td>4545</td>\n",
       "      <td>110</td>\n",
       "      <td>17</td>\n",
       "      <td>2017-12-17</td>\n",
       "      <td>Украина, Россия, населения России, прирост нас...</td>\n",
       "      <td>0.13</td>\n",
       "    </tr>\n",
       "    <tr>\n",
       "      <th>2</th>\n",
       "      <td>Запись Стрима Вечер ответов на вопросы зрителе...</td>\n",
       "      <td>9MjeshE7HvA</td>\n",
       "      <td>2766</td>\n",
       "      <td>93</td>\n",
       "      <td>20</td>\n",
       "      <td>2017-12-16</td>\n",
       "      <td>Украина, Россия, новости, США, эконономика Укр...</td>\n",
       "      <td>0.18</td>\n",
       "    </tr>\n",
       "    <tr>\n",
       "      <th>3</th>\n",
       "      <td>Анонс Стрима Вечер ответов на вопросы зрителей...</td>\n",
       "      <td>wOywbidyZAM</td>\n",
       "      <td>425</td>\n",
       "      <td>16</td>\n",
       "      <td>3</td>\n",
       "      <td>2017-12-16</td>\n",
       "      <td>Украина, Россия, Охрименко, политика, экономик...</td>\n",
       "      <td>0.16</td>\n",
       "    </tr>\n",
       "    <tr>\n",
       "      <th>4</th>\n",
       "      <td>Убойные новости об экспорте Украины и России. ...</td>\n",
       "      <td>WT7I9bcTUjQ</td>\n",
       "      <td>6236</td>\n",
       "      <td>128</td>\n",
       "      <td>62</td>\n",
       "      <td>2017-12-16</td>\n",
       "      <td>Украина, Россия, Охрименко, экспорт, импорт, э...</td>\n",
       "      <td>0.33</td>\n",
       "    </tr>\n",
       "  </tbody>\n",
       "</table>\n",
       "</div>"
      ],
      "text/plain": [
       "                                               title     video_id  views  \\\n",
       "0  Статистика просмотров видео \"Пару слов о Москв...  FYJ_3GayJPk   1651   \n",
       "1  Динамика роста/уменьшение населения Украины и ...  3C10V3DW2v0   4545   \n",
       "2  Запись Стрима Вечер ответов на вопросы зрителе...  9MjeshE7HvA   2766   \n",
       "3  Анонс Стрима Вечер ответов на вопросы зрителей...  wOywbidyZAM    425   \n",
       "4  Убойные новости об экспорте Украины и России. ...  WT7I9bcTUjQ   6236   \n",
       "\n",
       "   likes  dislikes       date  \\\n",
       "0    146         9 2017-12-17   \n",
       "1    110        17 2017-12-17   \n",
       "2     93        20 2017-12-16   \n",
       "3     16         3 2017-12-16   \n",
       "4    128        62 2017-12-16   \n",
       "\n",
       "                                                tags  dislikes_per  \n",
       "0          Украина, Охрименко, Россия, видео, анализ          0.06  \n",
       "1  Украина, Россия, населения России, прирост нас...          0.13  \n",
       "2  Украина, Россия, новости, США, эконономика Укр...          0.18  \n",
       "3  Украина, Россия, Охрименко, политика, экономик...          0.16  \n",
       "4  Украина, Россия, Охрименко, экспорт, импорт, э...          0.33  "
      ]
     },
     "execution_count": 130,
     "metadata": {},
     "output_type": "execute_result"
    }
   ],
   "source": [
    "df.head()"
   ]
  },
  {
   "cell_type": "markdown",
   "metadata": {},
   "source": [
    "## Анализ данных"
   ]
  },
  {
   "cell_type": "markdown",
   "metadata": {},
   "source": [
    "### Распределение просмотров и доли дизлайков"
   ]
  },
  {
   "cell_type": "code",
   "execution_count": 7,
   "metadata": {},
   "outputs": [
    {
     "data": {
      "text/html": [
       "<div>\n",
       "<style>\n",
       "    .dataframe thead tr:only-child th {\n",
       "        text-align: right;\n",
       "    }\n",
       "\n",
       "    .dataframe thead th {\n",
       "        text-align: left;\n",
       "    }\n",
       "\n",
       "    .dataframe tbody tr th {\n",
       "        vertical-align: top;\n",
       "    }\n",
       "</style>\n",
       "<table border=\"1\" class=\"dataframe\">\n",
       "  <thead>\n",
       "    <tr style=\"text-align: right;\">\n",
       "      <th></th>\n",
       "      <th>views</th>\n",
       "      <th>likes</th>\n",
       "      <th>dislikes</th>\n",
       "      <th>dislikes_per</th>\n",
       "    </tr>\n",
       "  </thead>\n",
       "  <tbody>\n",
       "    <tr>\n",
       "      <th>count</th>\n",
       "      <td>108.000000</td>\n",
       "      <td>108.000000</td>\n",
       "      <td>108.000000</td>\n",
       "      <td>108.000000</td>\n",
       "    </tr>\n",
       "    <tr>\n",
       "      <th>mean</th>\n",
       "      <td>4317.259259</td>\n",
       "      <td>128.185185</td>\n",
       "      <td>16.981481</td>\n",
       "      <td>0.106296</td>\n",
       "    </tr>\n",
       "    <tr>\n",
       "      <th>std</th>\n",
       "      <td>4128.096306</td>\n",
       "      <td>85.897586</td>\n",
       "      <td>23.672209</td>\n",
       "      <td>0.108159</td>\n",
       "    </tr>\n",
       "    <tr>\n",
       "      <th>min</th>\n",
       "      <td>425.000000</td>\n",
       "      <td>16.000000</td>\n",
       "      <td>0.000000</td>\n",
       "      <td>0.000000</td>\n",
       "    </tr>\n",
       "    <tr>\n",
       "      <th>25%</th>\n",
       "      <td>2458.500000</td>\n",
       "      <td>88.000000</td>\n",
       "      <td>4.000000</td>\n",
       "      <td>0.040000</td>\n",
       "    </tr>\n",
       "    <tr>\n",
       "      <th>50%</th>\n",
       "      <td>3574.000000</td>\n",
       "      <td>114.000000</td>\n",
       "      <td>9.500000</td>\n",
       "      <td>0.070000</td>\n",
       "    </tr>\n",
       "    <tr>\n",
       "      <th>75%</th>\n",
       "      <td>4837.500000</td>\n",
       "      <td>146.250000</td>\n",
       "      <td>19.000000</td>\n",
       "      <td>0.120000</td>\n",
       "    </tr>\n",
       "    <tr>\n",
       "      <th>max</th>\n",
       "      <td>31288.000000</td>\n",
       "      <td>785.000000</td>\n",
       "      <td>139.000000</td>\n",
       "      <td>0.550000</td>\n",
       "    </tr>\n",
       "  </tbody>\n",
       "</table>\n",
       "</div>"
      ],
      "text/plain": [
       "              views       likes    dislikes  dislikes_per\n",
       "count    108.000000  108.000000  108.000000    108.000000\n",
       "mean    4317.259259  128.185185   16.981481      0.106296\n",
       "std     4128.096306   85.897586   23.672209      0.108159\n",
       "min      425.000000   16.000000    0.000000      0.000000\n",
       "25%     2458.500000   88.000000    4.000000      0.040000\n",
       "50%     3574.000000  114.000000    9.500000      0.070000\n",
       "75%     4837.500000  146.250000   19.000000      0.120000\n",
       "max    31288.000000  785.000000  139.000000      0.550000"
      ]
     },
     "execution_count": 7,
     "metadata": {},
     "output_type": "execute_result"
    }
   ],
   "source": [
    "# Описательная статистика\n",
    "df.describe()"
   ]
  },
  {
   "cell_type": "code",
   "execution_count": 8,
   "metadata": {},
   "outputs": [
    {
     "name": "stdout",
     "output_type": "stream",
     "text": [
      "3574.0\n"
     ]
    }
   ],
   "source": [
    "print(df.views.median()) # Медиана просмотров"
   ]
  },
  {
   "cell_type": "code",
   "execution_count": 9,
   "metadata": {},
   "outputs": [
    {
     "name": "stdout",
     "output_type": "stream",
     "text": [
      "0.07\n"
     ]
    }
   ],
   "source": [
    "print(df.dislikes_per.median()) # Медиана доли дизлайков"
   ]
  },
  {
   "cell_type": "code",
   "execution_count": 38,
   "metadata": {},
   "outputs": [
    {
     "data": {
      "image/png": "[encoded data removed]",
      "text/plain": [
       "<matplotlib.figure.Figure at 0x7f147158ec88>"
      ]
     },
     "metadata": {},
     "output_type": "display_data"
    }
   ],
   "source": [
    "# График \"Распределение просмотров и дизлайков\"\n",
    "fig = plt.figure(figsize=[15,7])\n",
    "plt.subplot(211)\n",
    "plt.title('Распределение просмотров и дизлайков на канале', fontsize=22)\n",
    "sns.boxplot(x = 'views', data = df)\n",
    "plt.ylabel('Просмотры')\n",
    "plt.xlabel('Количество просмотров')\n",
    "plt.subplot(212)\n",
    "sns.boxplot(x = 'dislikes_per', data = df)\n",
    "plt.xlabel('Доля дизлайков')\n",
    "plt.ylabel('Дизлайки')\n",
    "plt.tight_layout()\n",
    "plt.show()\n",
    "fig.savefig('../images/Распределение просмотров и дизлайков.png')"
   ]
  },
  {
   "cell_type": "code",
   "execution_count": 92,
   "metadata": {},
   "outputs": [
    {
     "name": "stdout",
     "output_type": "stream",
     "text": [
      "0.07447916666666664 3585.8039215686276\n"
     ]
    }
   ],
   "source": [
    "# Среднее без выбросов\n",
    "mean_dis = df.dislikes_per[df.dislikes_per < 0.25].mean() # Дизлайки\n",
    "mean_views = df.views[df.views < 8000].mean() # Просмотры\n",
    "print(mean_dis, mean_views)"
   ]
  },
  {
   "cell_type": "markdown",
   "metadata": {},
   "source": [
    "### Зависимость доли дизлайков от количества просмотров"
   ]
  },
  {
   "cell_type": "code",
   "execution_count": 40,
   "metadata": {},
   "outputs": [
    {
     "data": {
      "text/plain": [
       "SpearmanrResult(correlation=0.16868838391086893, pvalue=0.080951506716860369)"
      ]
     },
     "execution_count": 40,
     "metadata": {},
     "output_type": "execute_result"
    }
   ],
   "source": [
    "# Коэффициент Спирмана\n",
    "spearmanr(df.views, df.dislikes_per)"
   ]
  },
  {
   "cell_type": "code",
   "execution_count": 53,
   "metadata": {},
   "outputs": [
    {
     "data": {
      "text/plain": [
       "(0.10593384651091486, 0.27520238827760651)"
      ]
     },
     "execution_count": 53,
     "metadata": {},
     "output_type": "execute_result"
    }
   ],
   "source": [
    "# Коэффициент Пирсона\n",
    "pearsonr(df.views, df.dislikes_per)"
   ]
  },
  {
   "cell_type": "code",
   "execution_count": 42,
   "metadata": {},
   "outputs": [
    {
     "data": {
      "image/png": "[encoded data removed]",
      "text/plain": [
       "<matplotlib.figure.Figure at 0x7f1474505f60>"
      ]
     },
     "metadata": {},
     "output_type": "display_data"
    }
   ],
   "source": [
    "# График \"Доля дизлайков не зависит от количества просмотров\"\n",
    "fig = plt.figure(figsize=[15,7])\n",
    "plt.plot(df.views, df.dislikes_per, '.')\n",
    "plt.title('Доля дизлайков не зависит от количества просмотров')\n",
    "plt.xlabel('Количество просмотров')\n",
    "plt.ylabel('Доля дизлайков')\n",
    "plt.tight_layout()\n",
    "plt.show()\n",
    "fig.savefig('../images/Доля дизлайков не зависит от количества просмотров.png')"
   ]
  },
  {
   "cell_type": "markdown",
   "metadata": {},
   "source": [
    "### Зависимость доли дизлайков и количества просмотров от тематики видео"
   ]
  },
  {
   "cell_type": "code",
   "execution_count": 62,
   "metadata": {
    "collapsed": true
   },
   "outputs": [],
   "source": [
    "# Очистка данных\n",
    "df.tags = df.tags.str.replace(', мак...', '')"
   ]
  },
  {
   "cell_type": "code",
   "execution_count": 135,
   "metadata": {
    "collapsed": true
   },
   "outputs": [],
   "source": [
    "# Распределение просмотров и дизлайков по тегам\n",
    "dislikes_per = []\n",
    "views = []\n",
    "tags = []\n",
    "for i in range(0, len(df)):\n",
    "    length = len(df.tags[i].split(','))\n",
    "    tags += df.tags[i].split(',')\n",
    "    views += [df.views[i]]*length\n",
    "    dislikes_per += [df.dislikes_per[i]]*length\n",
    "\n",
    "df_tags = pd.DataFrame({\n",
    "    'tags': tags,\n",
    "    'views': views,\n",
    "    'dislikes_per': dislikes_per\n",
    "})"
   ]
  },
  {
   "cell_type": "code",
   "execution_count": 137,
   "metadata": {
    "collapsed": true
   },
   "outputs": [],
   "source": [
    "# Очистка данных\n",
    "df_tags.tags = df_tags.tags.str.replace('^ ', '')"
   ]
  },
  {
   "cell_type": "code",
   "execution_count": 65,
   "metadata": {
    "collapsed": true
   },
   "outputs": [],
   "source": [
    "# Топ-20 тегов по частотности употребления (% от общего количества)\n",
    "df_tags_top = round(df_tags.tags.value_counts()/sum(df_tags.tags.value_counts())*100, 2)[0:20].reset_index()"
   ]
  },
  {
   "cell_type": "code",
   "execution_count": 66,
   "metadata": {},
   "outputs": [
    {
     "data": {
      "text/html": [
       "<div>\n",
       "<style>\n",
       "    .dataframe thead tr:only-child th {\n",
       "        text-align: right;\n",
       "    }\n",
       "\n",
       "    .dataframe thead th {\n",
       "        text-align: left;\n",
       "    }\n",
       "\n",
       "    .dataframe tbody tr th {\n",
       "        vertical-align: top;\n",
       "    }\n",
       "</style>\n",
       "<table border=\"1\" class=\"dataframe\">\n",
       "  <thead>\n",
       "    <tr style=\"text-align: right;\">\n",
       "      <th></th>\n",
       "      <th>index</th>\n",
       "      <th>tags</th>\n",
       "    </tr>\n",
       "  </thead>\n",
       "  <tbody>\n",
       "    <tr>\n",
       "      <th>0</th>\n",
       "      <td>Украина</td>\n",
       "      <td>9.74</td>\n",
       "    </tr>\n",
       "    <tr>\n",
       "      <th>1</th>\n",
       "      <td>Охрименко</td>\n",
       "      <td>6.49</td>\n",
       "    </tr>\n",
       "    <tr>\n",
       "      <th>2</th>\n",
       "      <td>Россия</td>\n",
       "      <td>6.28</td>\n",
       "    </tr>\n",
       "    <tr>\n",
       "      <th>3</th>\n",
       "      <td>валюта</td>\n",
       "      <td>3.14</td>\n",
       "    </tr>\n",
       "    <tr>\n",
       "      <th>4</th>\n",
       "      <td>экономика</td>\n",
       "      <td>2.93</td>\n",
       "    </tr>\n",
       "  </tbody>\n",
       "</table>\n",
       "</div>"
      ],
      "text/plain": [
       "       index  tags\n",
       "0    Украина  9.74\n",
       "1  Охрименко  6.49\n",
       "2     Россия  6.28\n",
       "3     валюта  3.14\n",
       "4  экономика  2.93"
      ]
     },
     "execution_count": 66,
     "metadata": {},
     "output_type": "execute_result"
    }
   ],
   "source": [
    "# Топ-5 тегов по частоте\n",
    "df_tags_top.head()"
   ]
  },
  {
   "cell_type": "code",
   "execution_count": 67,
   "metadata": {},
   "outputs": [
    {
     "data": {
      "image/png": "[encoded data removed]",
      "text/plain": [
       "<matplotlib.figure.Figure at 0x7f79d6bb37f0>"
      ]
     },
     "metadata": {},
     "output_type": "display_data"
    }
   ],
   "source": [
    "# График \"Чаще всего используются теги\"\n",
    "fig = plt.figure(figsize=[15,7])\n",
    "ax = fig.add_subplot(111)\n",
    "ax.barh(np.arange(len(df_tags_top['index']))[::-1], df_tags_top.tags)\n",
    "ax.set_yticks(np.arange(len(df_tags_top['index']))[::-1])\n",
    "ax.set_yticklabels(df_tags_top['index'])\n",
    "plt.title('Importances of Features Plot')\n",
    "plt.title('Чаще всего используются теги (Топ-20):')\n",
    "plt.ylabel(' ')\n",
    "plt.xlabel('% от общего количества')\n",
    "plt.tight_layout()\n",
    "plt.show()\n",
    "fig.savefig('../images/Чаще всего используются теги.png')"
   ]
  },
  {
   "cell_type": "code",
   "execution_count": 68,
   "metadata": {},
   "outputs": [
    {
     "data": {
      "text/html": [
       "<div>\n",
       "<style>\n",
       "    .dataframe thead tr:only-child th {\n",
       "        text-align: right;\n",
       "    }\n",
       "\n",
       "    .dataframe thead th {\n",
       "        text-align: left;\n",
       "    }\n",
       "\n",
       "    .dataframe tbody tr th {\n",
       "        vertical-align: top;\n",
       "    }\n",
       "</style>\n",
       "<table border=\"1\" class=\"dataframe\">\n",
       "  <thead>\n",
       "    <tr style=\"text-align: right;\">\n",
       "      <th></th>\n",
       "      <th>title</th>\n",
       "      <th>video_id</th>\n",
       "      <th>views</th>\n",
       "      <th>likes</th>\n",
       "      <th>dislikes</th>\n",
       "      <th>date</th>\n",
       "      <th>tags</th>\n",
       "      <th>dislikes_per</th>\n",
       "    </tr>\n",
       "  </thead>\n",
       "  <tbody>\n",
       "    <tr>\n",
       "      <th>18</th>\n",
       "      <td>Ура! Для всех желающих, есть возможность пожит...</td>\n",
       "      <td>sEOf558czyE</td>\n",
       "      <td>3437</td>\n",
       "      <td>70</td>\n",
       "      <td>86</td>\n",
       "      <td>2017-12-07</td>\n",
       "      <td>Украина, Россия, социализм, капитализм, Охриме...</td>\n",
       "      <td>0.55</td>\n",
       "    </tr>\n",
       "    <tr>\n",
       "      <th>59</th>\n",
       "      <td>Импортозамещение в России: успех или провал..И...</td>\n",
       "      <td>UFGApGeeVpc</td>\n",
       "      <td>5891</td>\n",
       "      <td>158</td>\n",
       "      <td>139</td>\n",
       "      <td>2017-11-16</td>\n",
       "      <td>Украина, Россия, импортозамещение, импорт</td>\n",
       "      <td>0.47</td>\n",
       "    </tr>\n",
       "    <tr>\n",
       "      <th>107</th>\n",
       "      <td>Кто выиграет, а кто проиграет от Медицинской р...</td>\n",
       "      <td>7FkYR9cVmzk</td>\n",
       "      <td>7548</td>\n",
       "      <td>128</td>\n",
       "      <td>100</td>\n",
       "      <td>2017-10-20</td>\n",
       "      <td>Украина, медицина, болезни, врачи, лекарства, ...</td>\n",
       "      <td>0.44</td>\n",
       "    </tr>\n",
       "    <tr>\n",
       "      <th>40</th>\n",
       "      <td>Афера по-российски: самолеты «Sukhoi SuperJet ...</td>\n",
       "      <td>F-8J5QaqWFQ</td>\n",
       "      <td>6998</td>\n",
       "      <td>143</td>\n",
       "      <td>96</td>\n",
       "      <td>2017-11-26</td>\n",
       "      <td>Россия, самолетостроение, «Sukhoi SuperJet 100...</td>\n",
       "      <td>0.40</td>\n",
       "    </tr>\n",
       "    <tr>\n",
       "      <th>57</th>\n",
       "      <td>Импортозамещение в Украине на примере велосипе...</td>\n",
       "      <td>tQm8FKGC_SU</td>\n",
       "      <td>4119</td>\n",
       "      <td>73</td>\n",
       "      <td>37</td>\n",
       "      <td>2017-11-17</td>\n",
       "      <td>Украина, импортозамещение, велосипеды, Охримен...</td>\n",
       "      <td>0.34</td>\n",
       "    </tr>\n",
       "  </tbody>\n",
       "</table>\n",
       "</div>"
      ],
      "text/plain": [
       "                                                 title     video_id  views  \\\n",
       "18   Ура! Для всех желающих, есть возможность пожит...  sEOf558czyE   3437   \n",
       "59   Импортозамещение в России: успех или провал..И...  UFGApGeeVpc   5891   \n",
       "107  Кто выиграет, а кто проиграет от Медицинской р...  7FkYR9cVmzk   7548   \n",
       "40   Афера по-российски: самолеты «Sukhoi SuperJet ...  F-8J5QaqWFQ   6998   \n",
       "57   Импортозамещение в Украине на примере велосипе...  tQm8FKGC_SU   4119   \n",
       "\n",
       "     likes  dislikes       date  \\\n",
       "18      70        86 2017-12-07   \n",
       "59     158       139 2017-11-16   \n",
       "107    128       100 2017-10-20   \n",
       "40     143        96 2017-11-26   \n",
       "57      73        37 2017-11-17   \n",
       "\n",
       "                                                  tags  dislikes_per  \n",
       "18   Украина, Россия, социализм, капитализм, Охриме...          0.55  \n",
       "59           Украина, Россия, импортозамещение, импорт          0.47  \n",
       "107  Украина, медицина, болезни, врачи, лекарства, ...          0.44  \n",
       "40   Россия, самолетостроение, «Sukhoi SuperJet 100...          0.40  \n",
       "57   Украина, импортозамещение, велосипеды, Охримен...          0.34  "
      ]
     },
     "execution_count": 68,
     "metadata": {},
     "output_type": "execute_result"
    }
   ],
   "source": [
    "# Посты с наибольшей долей дизлайков\n",
    "df.sort_values(['dislikes_per'], ascending=False).head()"
   ]
  },
  {
   "cell_type": "code",
   "execution_count": 69,
   "metadata": {},
   "outputs": [
    {
     "data": {
      "text/html": [
       "<div>\n",
       "<style>\n",
       "    .dataframe thead tr:only-child th {\n",
       "        text-align: right;\n",
       "    }\n",
       "\n",
       "    .dataframe thead th {\n",
       "        text-align: left;\n",
       "    }\n",
       "\n",
       "    .dataframe tbody tr th {\n",
       "        vertical-align: top;\n",
       "    }\n",
       "</style>\n",
       "<table border=\"1\" class=\"dataframe\">\n",
       "  <thead>\n",
       "    <tr style=\"text-align: right;\">\n",
       "      <th></th>\n",
       "      <th>title</th>\n",
       "      <th>video_id</th>\n",
       "      <th>views</th>\n",
       "      <th>likes</th>\n",
       "      <th>dislikes</th>\n",
       "      <th>date</th>\n",
       "      <th>tags</th>\n",
       "      <th>dislikes_per</th>\n",
       "    </tr>\n",
       "  </thead>\n",
       "  <tbody>\n",
       "    <tr>\n",
       "      <th>21</th>\n",
       "      <td>Анонс Стрима Вечер ответов на вопросы зрителей...</td>\n",
       "      <td>-MEb-3QOd6U</td>\n",
       "      <td>545</td>\n",
       "      <td>27</td>\n",
       "      <td>0</td>\n",
       "      <td>2017-12-06</td>\n",
       "      <td>Украина, Россия, политика, экономика, Охрименк...</td>\n",
       "      <td>0.0</td>\n",
       "    </tr>\n",
       "    <tr>\n",
       "      <th>55</th>\n",
       "      <td>Как я готовлю кофе и приглашаю Вас сегодня на ...</td>\n",
       "      <td>Xb32ctGjv8Q</td>\n",
       "      <td>1009</td>\n",
       "      <td>55</td>\n",
       "      <td>0</td>\n",
       "      <td>2017-11-18</td>\n",
       "      <td>Украина, Россия, Польша, новости, стрим, Охрим...</td>\n",
       "      <td>0.0</td>\n",
       "    </tr>\n",
       "    <tr>\n",
       "      <th>70</th>\n",
       "      <td>Анонс Стрима Вечер ответов на вопросы зрителей...</td>\n",
       "      <td>325mKdScBxw</td>\n",
       "      <td>697</td>\n",
       "      <td>30</td>\n",
       "      <td>0</td>\n",
       "      <td>2017-11-11</td>\n",
       "      <td>Украина, Россия, Польша, Белоруссия, Казахстан...</td>\n",
       "      <td>0.0</td>\n",
       "    </tr>\n",
       "    <tr>\n",
       "      <th>84</th>\n",
       "      <td>Анонс Стрима \"Вечер ответов на вопросы зрителе...</td>\n",
       "      <td>Cohcejz3slo</td>\n",
       "      <td>843</td>\n",
       "      <td>34</td>\n",
       "      <td>0</td>\n",
       "      <td>2017-11-04</td>\n",
       "      <td>Украина, Россия, Польша, Белоруссия, Казахстан...</td>\n",
       "      <td>0.0</td>\n",
       "    </tr>\n",
       "    <tr>\n",
       "      <th>90</th>\n",
       "      <td>Несколько слов о валютном рынке Украины за 9 м...</td>\n",
       "      <td>dMecZClVZBc</td>\n",
       "      <td>1768</td>\n",
       "      <td>40</td>\n",
       "      <td>0</td>\n",
       "      <td>2017-11-01</td>\n",
       "      <td>Украина, платежный баланас, валюта, валютный р...</td>\n",
       "      <td>0.0</td>\n",
       "    </tr>\n",
       "  </tbody>\n",
       "</table>\n",
       "</div>"
      ],
      "text/plain": [
       "                                                title     video_id  views  \\\n",
       "21  Анонс Стрима Вечер ответов на вопросы зрителей...  -MEb-3QOd6U    545   \n",
       "55  Как я готовлю кофе и приглашаю Вас сегодня на ...  Xb32ctGjv8Q   1009   \n",
       "70  Анонс Стрима Вечер ответов на вопросы зрителей...  325mKdScBxw    697   \n",
       "84  Анонс Стрима \"Вечер ответов на вопросы зрителе...  Cohcejz3slo    843   \n",
       "90  Несколько слов о валютном рынке Украины за 9 м...  dMecZClVZBc   1768   \n",
       "\n",
       "    likes  dislikes       date  \\\n",
       "21     27         0 2017-12-06   \n",
       "55     55         0 2017-11-18   \n",
       "70     30         0 2017-11-11   \n",
       "84     34         0 2017-11-04   \n",
       "90     40         0 2017-11-01   \n",
       "\n",
       "                                                 tags  dislikes_per  \n",
       "21  Украина, Россия, политика, экономика, Охрименк...           0.0  \n",
       "55  Украина, Россия, Польша, новости, стрим, Охрим...           0.0  \n",
       "70  Украина, Россия, Польша, Белоруссия, Казахстан...           0.0  \n",
       "84  Украина, Россия, Польша, Белоруссия, Казахстан...           0.0  \n",
       "90  Украина, платежный баланас, валюта, валютный р...           0.0  "
      ]
     },
     "execution_count": 69,
     "metadata": {},
     "output_type": "execute_result"
    }
   ],
   "source": [
    "# Посты с наименьшей долей дизлайков\n",
    "df.sort_values(['dislikes_per'], ascending=True).head()"
   ]
  },
  {
   "cell_type": "code",
   "execution_count": 101,
   "metadata": {},
   "outputs": [
    {
     "data": {
      "text/html": [
       "<div>\n",
       "<style>\n",
       "    .dataframe thead tr:only-child th {\n",
       "        text-align: right;\n",
       "    }\n",
       "\n",
       "    .dataframe thead th {\n",
       "        text-align: left;\n",
       "    }\n",
       "\n",
       "    .dataframe tbody tr th {\n",
       "        vertical-align: top;\n",
       "    }\n",
       "</style>\n",
       "<table border=\"1\" class=\"dataframe\">\n",
       "  <thead>\n",
       "    <tr style=\"text-align: right;\">\n",
       "      <th></th>\n",
       "      <th>title</th>\n",
       "      <th>video_id</th>\n",
       "      <th>views</th>\n",
       "      <th>likes</th>\n",
       "      <th>dislikes</th>\n",
       "      <th>date</th>\n",
       "      <th>tags</th>\n",
       "      <th>dislikes_per</th>\n",
       "    </tr>\n",
       "  </thead>\n",
       "  <tbody>\n",
       "    <tr>\n",
       "      <th>34</th>\n",
       "      <td>Александр Охрименко и Дмитрий Джангиров, \"Рабо...</td>\n",
       "      <td>9-UJYYmxDpc</td>\n",
       "      <td>31288</td>\n",
       "      <td>785</td>\n",
       "      <td>40</td>\n",
       "      <td>2017-11-28</td>\n",
       "      <td>Капитал, Капитал ТВ, Capital, CapitalTV, Украи...</td>\n",
       "      <td>0.05</td>\n",
       "    </tr>\n",
       "    <tr>\n",
       "      <th>11</th>\n",
       "      <td>Кто спасет Украину? Право голоса</td>\n",
       "      <td>PAEnK6NSfxM</td>\n",
       "      <td>29224</td>\n",
       "      <td>272</td>\n",
       "      <td>58</td>\n",
       "      <td>2017-12-12</td>\n",
       "      <td>ТВЦ, ТВ Центр, ток-шоу, Бабаян, политика, экон...</td>\n",
       "      <td>0.18</td>\n",
       "    </tr>\n",
       "    <tr>\n",
       "      <th>5</th>\n",
       "      <td>Пару слов о Москве глазами хохла</td>\n",
       "      <td>LyB1TCAbJ4U</td>\n",
       "      <td>12152</td>\n",
       "      <td>294</td>\n",
       "      <td>118</td>\n",
       "      <td>2017-12-15</td>\n",
       "      <td>Украина, Россия, Киев, Москва, Охрименко, исто...</td>\n",
       "      <td>0.29</td>\n",
       "    </tr>\n",
       "    <tr>\n",
       "      <th>33</th>\n",
       "      <td>США добавил санкций против России и уже пугают...</td>\n",
       "      <td>-8R-F288ulo</td>\n",
       "      <td>10561</td>\n",
       "      <td>263</td>\n",
       "      <td>19</td>\n",
       "      <td>2017-11-29</td>\n",
       "      <td>Россия, Охрименко, валюта, США, санкции против...</td>\n",
       "      <td>0.07</td>\n",
       "    </tr>\n",
       "    <tr>\n",
       "      <th>94</th>\n",
       "      <td>Действительно ли Украина кормит ЕС?. Цифры и ф...</td>\n",
       "      <td>COHJjK4vsfM</td>\n",
       "      <td>8679</td>\n",
       "      <td>156</td>\n",
       "      <td>4</td>\n",
       "      <td>2017-10-29</td>\n",
       "      <td>Украина, ЕС, экспорт, экспорт Украины в ЕС, эк...</td>\n",
       "      <td>0.02</td>\n",
       "    </tr>\n",
       "  </tbody>\n",
       "</table>\n",
       "</div>"
      ],
      "text/plain": [
       "                                                title     video_id  views  \\\n",
       "34  Александр Охрименко и Дмитрий Джангиров, \"Рабо...  9-UJYYmxDpc  31288   \n",
       "11                   Кто спасет Украину? Право голоса  PAEnK6NSfxM  29224   \n",
       "5                    Пару слов о Москве глазами хохла  LyB1TCAbJ4U  12152   \n",
       "33  США добавил санкций против России и уже пугают...  -8R-F288ulo  10561   \n",
       "94  Действительно ли Украина кормит ЕС?. Цифры и ф...  COHJjK4vsfM   8679   \n",
       "\n",
       "    likes  dislikes       date  \\\n",
       "34    785        40 2017-11-28   \n",
       "11    272        58 2017-12-12   \n",
       "5     294       118 2017-12-15   \n",
       "33    263        19 2017-11-29   \n",
       "94    156         4 2017-10-29   \n",
       "\n",
       "                                                 tags  dislikes_per  \n",
       "34  Капитал, Капитал ТВ, Capital, CapitalTV, Украи...          0.05  \n",
       "11  ТВЦ, ТВ Центр, ток-шоу, Бабаян, политика, экон...          0.18  \n",
       "5   Украина, Россия, Киев, Москва, Охрименко, исто...          0.29  \n",
       "33  Россия, Охрименко, валюта, США, санкции против...          0.07  \n",
       "94  Украина, ЕС, экспорт, экспорт Украины в ЕС, эк...          0.02  "
      ]
     },
     "execution_count": 101,
     "metadata": {},
     "output_type": "execute_result"
    }
   ],
   "source": [
    "# Посты с наибольшим количеством просмотров\n",
    "df.sort_values(['views'], ascending=False).head()"
   ]
  },
  {
   "cell_type": "markdown",
   "metadata": {},
   "source": [
    "#### Вычисление значимой зависимости (t-тест)"
   ]
  },
  {
   "cell_type": "code",
   "execution_count": 119,
   "metadata": {
    "collapsed": true
   },
   "outputs": [],
   "source": [
    "# Среднее значение просмотров и доли дизлайков по тегам, которые встречаются с частотой >= 5\n",
    "df_ttest = df_tags.groupby('tags')['views', 'dislikes_per'].mean().sort_values(['dislikes_per'], ascending=False)\n",
    "top_tags = df_tags.tags.value_counts()[df_tags.tags.value_counts() >= 5].reset_index()['index'].tolist()\n",
    "df_ttest = df_ttest[df_ttest.index.isin(top_tags)]"
   ]
  },
  {
   "cell_type": "code",
   "execution_count": 120,
   "metadata": {},
   "outputs": [],
   "source": [
    "# Добавление колонок для уровня значимости t-теста и отклонений от средних значений\n",
    "df_ttest['views_pvalue'] = 1 # pvalue для просмотров\n",
    "df_ttest['dislikes_pvalue'] = 1 # pvalue для дизлайков\n",
    "df_ttest['views_diff_mean'] = round((df_ttest.views-mean_views)/mean_views, 2) # отклонение от ср. просмотров\n",
    "df_ttest['dislikes_diff_mean'] = round((df_ttest.dislikes_per-mean_dis)/mean_dis, 2) # отклонение от ср. доли дизов"
   ]
  },
  {
   "cell_type": "code",
   "execution_count": 121,
   "metadata": {
    "collapsed": true
   },
   "outputs": [],
   "source": [
    "# Расчет p-value\n",
    "for i in df_ttest.index:\n",
    "    df_ttest.dislikes_pvalue[df_ttest.index==i] = ttest_ind(df.dislikes_per[df.tags.str.contains(str(i))].tolist(), \n",
    "                                                         [df.dislikes_per.mean()]*len(df.dislikes_per[df.tags.str.contains(str(i))].tolist()))[1]\n",
    "    df_ttest.views_pvalue[df_ttest.index==i] = ttest_ind(df.views[df.tags.str.contains(str(i))].tolist(), \n",
    "                                                         [df.views.mean()]*len(df.views[df.tags.str.contains(str(i))].tolist()))[1]"
   ]
  },
  {
   "cell_type": "code",
   "execution_count": 122,
   "metadata": {},
   "outputs": [
    {
     "data": {
      "text/html": [
       "<div>\n",
       "<style>\n",
       "    .dataframe thead tr:only-child th {\n",
       "        text-align: right;\n",
       "    }\n",
       "\n",
       "    .dataframe thead th {\n",
       "        text-align: left;\n",
       "    }\n",
       "\n",
       "    .dataframe tbody tr th {\n",
       "        vertical-align: top;\n",
       "    }\n",
       "</style>\n",
       "<table border=\"1\" class=\"dataframe\">\n",
       "  <thead>\n",
       "    <tr style=\"text-align: right;\">\n",
       "      <th></th>\n",
       "      <th>views</th>\n",
       "      <th>dislikes_per</th>\n",
       "      <th>views_pvalue</th>\n",
       "      <th>dislikes_pvalue</th>\n",
       "      <th>views_diff_mean</th>\n",
       "      <th>dislikes_diff_mean</th>\n",
       "    </tr>\n",
       "    <tr>\n",
       "      <th>tags</th>\n",
       "      <th></th>\n",
       "      <th></th>\n",
       "      <th></th>\n",
       "      <th></th>\n",
       "      <th></th>\n",
       "      <th></th>\n",
       "    </tr>\n",
       "  </thead>\n",
       "  <tbody>\n",
       "    <tr>\n",
       "      <th>Охрименко</th>\n",
       "      <td>3753.258065</td>\n",
       "      <td>0.111290</td>\n",
       "      <td>3.094395e-02</td>\n",
       "      <td>7.820253e-01</td>\n",
       "      <td>0.05</td>\n",
       "      <td>0.49</td>\n",
       "    </tr>\n",
       "    <tr>\n",
       "      <th>эконономика Украины</th>\n",
       "      <td>3473.857143</td>\n",
       "      <td>0.095714</td>\n",
       "      <td>7.858082e-04</td>\n",
       "      <td>5.582859e-01</td>\n",
       "      <td>-0.03</td>\n",
       "      <td>0.29</td>\n",
       "    </tr>\n",
       "    <tr>\n",
       "      <th>экономические новости</th>\n",
       "      <td>3473.857143</td>\n",
       "      <td>0.095714</td>\n",
       "      <td>7.858082e-04</td>\n",
       "      <td>5.582859e-01</td>\n",
       "      <td>-0.03</td>\n",
       "      <td>0.29</td>\n",
       "    </tr>\n",
       "    <tr>\n",
       "      <th>реформы</th>\n",
       "      <td>3317.900000</td>\n",
       "      <td>0.078000</td>\n",
       "      <td>1.361012e-02</td>\n",
       "      <td>8.942985e-02</td>\n",
       "      <td>-0.07</td>\n",
       "      <td>0.05</td>\n",
       "    </tr>\n",
       "    <tr>\n",
       "      <th>Польша</th>\n",
       "      <td>3231.631579</td>\n",
       "      <td>0.065789</td>\n",
       "      <td>2.136040e-03</td>\n",
       "      <td>2.250849e-03</td>\n",
       "      <td>-0.10</td>\n",
       "      <td>-0.12</td>\n",
       "    </tr>\n",
       "    <tr>\n",
       "      <th>Белоруссия</th>\n",
       "      <td>3222.461538</td>\n",
       "      <td>0.067692</td>\n",
       "      <td>3.839745e-02</td>\n",
       "      <td>9.053374e-03</td>\n",
       "      <td>-0.10</td>\n",
       "      <td>-0.09</td>\n",
       "    </tr>\n",
       "    <tr>\n",
       "      <th>бизнес</th>\n",
       "      <td>2975.200000</td>\n",
       "      <td>0.082000</td>\n",
       "      <td>2.300041e-05</td>\n",
       "      <td>8.004091e-02</td>\n",
       "      <td>-0.17</td>\n",
       "      <td>0.10</td>\n",
       "    </tr>\n",
       "    <tr>\n",
       "      <th>новости</th>\n",
       "      <td>2497.538462</td>\n",
       "      <td>0.066923</td>\n",
       "      <td>8.963694e-03</td>\n",
       "      <td>5.330756e-03</td>\n",
       "      <td>-0.30</td>\n",
       "      <td>-0.10</td>\n",
       "    </tr>\n",
       "    <tr>\n",
       "      <th>СССР</th>\n",
       "      <td>2106.714286</td>\n",
       "      <td>0.194286</td>\n",
       "      <td>3.512163e-08</td>\n",
       "      <td>2.760130e-02</td>\n",
       "      <td>-0.41</td>\n",
       "      <td>1.61</td>\n",
       "    </tr>\n",
       "    <tr>\n",
       "      <th>деньги</th>\n",
       "      <td>1181.625000</td>\n",
       "      <td>0.012500</td>\n",
       "      <td>4.334883e-08</td>\n",
       "      <td>3.592267e-09</td>\n",
       "      <td>-0.67</td>\n",
       "      <td>-0.83</td>\n",
       "    </tr>\n",
       "    <tr>\n",
       "      <th>финансы</th>\n",
       "      <td>1073.833333</td>\n",
       "      <td>0.008333</td>\n",
       "      <td>3.130234e-05</td>\n",
       "      <td>1.647094e-03</td>\n",
       "      <td>-0.70</td>\n",
       "      <td>-0.89</td>\n",
       "    </tr>\n",
       "  </tbody>\n",
       "</table>\n",
       "</div>"
      ],
      "text/plain": [
       "                             views  dislikes_per  views_pvalue  \\\n",
       "tags                                                             \n",
       "Охрименко              3753.258065      0.111290  3.094395e-02   \n",
       "эконономика Украины    3473.857143      0.095714  7.858082e-04   \n",
       "экономические новости  3473.857143      0.095714  7.858082e-04   \n",
       "реформы                3317.900000      0.078000  1.361012e-02   \n",
       "Польша                 3231.631579      0.065789  2.136040e-03   \n",
       "Белоруссия             3222.461538      0.067692  3.839745e-02   \n",
       "бизнес                 2975.200000      0.082000  2.300041e-05   \n",
       "новости                2497.538462      0.066923  8.963694e-03   \n",
       "СССР                   2106.714286      0.194286  3.512163e-08   \n",
       "деньги                 1181.625000      0.012500  4.334883e-08   \n",
       "финансы                1073.833333      0.008333  3.130234e-05   \n",
       "\n",
       "                       dislikes_pvalue  views_diff_mean  dislikes_diff_mean  \n",
       "tags                                                                         \n",
       "Охрименко                 7.820253e-01             0.05                0.49  \n",
       "эконономика Украины       5.582859e-01            -0.03                0.29  \n",
       "экономические новости     5.582859e-01            -0.03                0.29  \n",
       "реформы                   8.942985e-02            -0.07                0.05  \n",
       "Польша                    2.250849e-03            -0.10               -0.12  \n",
       "Белоруссия                9.053374e-03            -0.10               -0.09  \n",
       "бизнес                    8.004091e-02            -0.17                0.10  \n",
       "новости                   5.330756e-03            -0.30               -0.10  \n",
       "СССР                      2.760130e-02            -0.41                1.61  \n",
       "деньги                    3.592267e-09            -0.67               -0.83  \n",
       "финансы                   1.647094e-03            -0.70               -0.89  "
      ]
     },
     "execution_count": 122,
     "metadata": {},
     "output_type": "execute_result"
    }
   ],
   "source": [
    "# Теги, которые оказывают значимое влияние на количество просмотров (значимо отклоняются от среднего - 3585.8)\n",
    "df_ttest[df_ttest.views_pvalue <= 0.05].sort_values(['views'], ascending=False)"
   ]
  },
  {
   "cell_type": "code",
   "execution_count": 123,
   "metadata": {},
   "outputs": [
    {
     "data": {
      "text/html": [
       "<div>\n",
       "<style>\n",
       "    .dataframe thead tr:only-child th {\n",
       "        text-align: right;\n",
       "    }\n",
       "\n",
       "    .dataframe thead th {\n",
       "        text-align: left;\n",
       "    }\n",
       "\n",
       "    .dataframe tbody tr th {\n",
       "        vertical-align: top;\n",
       "    }\n",
       "</style>\n",
       "<table border=\"1\" class=\"dataframe\">\n",
       "  <thead>\n",
       "    <tr style=\"text-align: right;\">\n",
       "      <th></th>\n",
       "      <th>views</th>\n",
       "      <th>dislikes_per</th>\n",
       "      <th>views_pvalue</th>\n",
       "      <th>dislikes_pvalue</th>\n",
       "      <th>views_diff_mean</th>\n",
       "      <th>dislikes_diff_mean</th>\n",
       "    </tr>\n",
       "    <tr>\n",
       "      <th>tags</th>\n",
       "      <th></th>\n",
       "      <th></th>\n",
       "      <th></th>\n",
       "      <th></th>\n",
       "      <th></th>\n",
       "      <th></th>\n",
       "    </tr>\n",
       "  </thead>\n",
       "  <tbody>\n",
       "    <tr>\n",
       "      <th>СССР</th>\n",
       "      <td>2106.714286</td>\n",
       "      <td>0.194286</td>\n",
       "      <td>3.512163e-08</td>\n",
       "      <td>2.760130e-02</td>\n",
       "      <td>-0.41</td>\n",
       "      <td>1.61</td>\n",
       "    </tr>\n",
       "    <tr>\n",
       "      <th>США</th>\n",
       "      <td>4301.000000</td>\n",
       "      <td>0.075000</td>\n",
       "      <td>9.715244e-01</td>\n",
       "      <td>1.068518e-02</td>\n",
       "      <td>0.20</td>\n",
       "      <td>0.01</td>\n",
       "    </tr>\n",
       "    <tr>\n",
       "      <th>политика</th>\n",
       "      <td>3911.900000</td>\n",
       "      <td>0.074000</td>\n",
       "      <td>7.717820e-01</td>\n",
       "      <td>1.658367e-02</td>\n",
       "      <td>0.09</td>\n",
       "      <td>-0.01</td>\n",
       "    </tr>\n",
       "    <tr>\n",
       "      <th>Белоруссия</th>\n",
       "      <td>3222.461538</td>\n",
       "      <td>0.067692</td>\n",
       "      <td>3.839745e-02</td>\n",
       "      <td>9.053374e-03</td>\n",
       "      <td>-0.10</td>\n",
       "      <td>-0.09</td>\n",
       "    </tr>\n",
       "    <tr>\n",
       "      <th>новости</th>\n",
       "      <td>2497.538462</td>\n",
       "      <td>0.066923</td>\n",
       "      <td>8.963694e-03</td>\n",
       "      <td>5.330756e-03</td>\n",
       "      <td>-0.30</td>\n",
       "      <td>-0.10</td>\n",
       "    </tr>\n",
       "    <tr>\n",
       "      <th>Польша</th>\n",
       "      <td>3231.631579</td>\n",
       "      <td>0.065789</td>\n",
       "      <td>2.136040e-03</td>\n",
       "      <td>2.250849e-03</td>\n",
       "      <td>-0.10</td>\n",
       "      <td>-0.12</td>\n",
       "    </tr>\n",
       "    <tr>\n",
       "      <th>валюта</th>\n",
       "      <td>3587.433333</td>\n",
       "      <td>0.058333</td>\n",
       "      <td>8.526937e-02</td>\n",
       "      <td>5.956212e-07</td>\n",
       "      <td>0.00</td>\n",
       "      <td>-0.22</td>\n",
       "    </tr>\n",
       "    <tr>\n",
       "      <th>курс доллара</th>\n",
       "      <td>4206.400000</td>\n",
       "      <td>0.054000</td>\n",
       "      <td>8.892282e-01</td>\n",
       "      <td>2.279151e-02</td>\n",
       "      <td>0.17</td>\n",
       "      <td>-0.27</td>\n",
       "    </tr>\n",
       "    <tr>\n",
       "      <th>зарплата</th>\n",
       "      <td>4086.166667</td>\n",
       "      <td>0.051667</td>\n",
       "      <td>5.998981e-01</td>\n",
       "      <td>1.199701e-03</td>\n",
       "      <td>0.14</td>\n",
       "      <td>-0.31</td>\n",
       "    </tr>\n",
       "    <tr>\n",
       "      <th>курс гривны</th>\n",
       "      <td>4018.714286</td>\n",
       "      <td>0.051429</td>\n",
       "      <td>6.332317e-01</td>\n",
       "      <td>2.460009e-03</td>\n",
       "      <td>0.12</td>\n",
       "      <td>-0.31</td>\n",
       "    </tr>\n",
       "    <tr>\n",
       "      <th>банки</th>\n",
       "      <td>3364.800000</td>\n",
       "      <td>0.045000</td>\n",
       "      <td>2.251817e-01</td>\n",
       "      <td>2.678665e-05</td>\n",
       "      <td>-0.06</td>\n",
       "      <td>-0.40</td>\n",
       "    </tr>\n",
       "    <tr>\n",
       "      <th>деньги</th>\n",
       "      <td>1181.625000</td>\n",
       "      <td>0.012500</td>\n",
       "      <td>4.334883e-08</td>\n",
       "      <td>3.592267e-09</td>\n",
       "      <td>-0.67</td>\n",
       "      <td>-0.83</td>\n",
       "    </tr>\n",
       "    <tr>\n",
       "      <th>финансы</th>\n",
       "      <td>1073.833333</td>\n",
       "      <td>0.008333</td>\n",
       "      <td>3.130234e-05</td>\n",
       "      <td>1.647094e-03</td>\n",
       "      <td>-0.70</td>\n",
       "      <td>-0.89</td>\n",
       "    </tr>\n",
       "  </tbody>\n",
       "</table>\n",
       "</div>"
      ],
      "text/plain": [
       "                    views  dislikes_per  views_pvalue  dislikes_pvalue  \\\n",
       "tags                                                                     \n",
       "СССР          2106.714286      0.194286  3.512163e-08     2.760130e-02   \n",
       "США           4301.000000      0.075000  9.715244e-01     1.068518e-02   \n",
       "политика      3911.900000      0.074000  7.717820e-01     1.658367e-02   \n",
       "Белоруссия    3222.461538      0.067692  3.839745e-02     9.053374e-03   \n",
       "новости       2497.538462      0.066923  8.963694e-03     5.330756e-03   \n",
       "Польша        3231.631579      0.065789  2.136040e-03     2.250849e-03   \n",
       "валюта        3587.433333      0.058333  8.526937e-02     5.956212e-07   \n",
       "курс доллара  4206.400000      0.054000  8.892282e-01     2.279151e-02   \n",
       "зарплата      4086.166667      0.051667  5.998981e-01     1.199701e-03   \n",
       "курс гривны   4018.714286      0.051429  6.332317e-01     2.460009e-03   \n",
       "банки         3364.800000      0.045000  2.251817e-01     2.678665e-05   \n",
       "деньги        1181.625000      0.012500  4.334883e-08     3.592267e-09   \n",
       "финансы       1073.833333      0.008333  3.130234e-05     1.647094e-03   \n",
       "\n",
       "              views_diff_mean  dislikes_diff_mean  \n",
       "tags                                               \n",
       "СССР                    -0.41                1.61  \n",
       "США                      0.20                0.01  \n",
       "политика                 0.09               -0.01  \n",
       "Белоруссия              -0.10               -0.09  \n",
       "новости                 -0.30               -0.10  \n",
       "Польша                  -0.10               -0.12  \n",
       "валюта                   0.00               -0.22  \n",
       "курс доллара             0.17               -0.27  \n",
       "зарплата                 0.14               -0.31  \n",
       "курс гривны              0.12               -0.31  \n",
       "банки                   -0.06               -0.40  \n",
       "деньги                  -0.67               -0.83  \n",
       "финансы                 -0.70               -0.89  "
      ]
     },
     "execution_count": 123,
     "metadata": {},
     "output_type": "execute_result"
    }
   ],
   "source": [
    "# Теги, которые оказывают значимое влияние на долю дизлайков (значимо отклоняются от среднего - 0.07)\n",
    "df_ttest[df_ttest.dislikes_pvalue <= 0.05].sort_values(['dislikes_per'], ascending=False)"
   ]
  },
  {
   "cell_type": "markdown",
   "metadata": {},
   "source": [
    "## Выводы\n",
    "\n",
    "* Среднее количество просмотров на канале после удаление экстремальных значений -- 3585 (без удаления -- 4317, медианное значение равно 3574), средний процент дизлайков после удаления экстремальных значений -- 7% (без удаления -- 11%, медиана -- 7%). Для канала, который освещает довольно сложные, зачастую болезненные для общества темы, -- очень хороший результат.\n",
    "\n",
    "* Прямой зависимости между количеством просмотров и доли дизлайков нет.\n",
    "\n",
    "* Есть значимая зависимость доли дизлайков от тематики видео:\n",
    "\n",
    "  + Людям нравятся прогнозы и советы автора по экономическим и бизнес-вопросам, которые их непосредственно касаются (теги \"курс гривны\", \"зарплата\", \"курс доллара\", \"валюта\", отчасти \"бизнес\", \"банки\", \"деньги\").\n",
    "\n",
    "  + Стримы аудитория оценивает в основном положительно (теги \"деньги\", \"финансы\", \"банки\").\n",
    "\n",
    "  + Очень не нравятся аудитории видео с тегом \"СССР\" -- дизлайков под такими роликами на 160% больше среднего -- из-за резкого неприятия позиции автора (точки преткновения: советское прошлое, история Руси, стратегическое видение будущего).\n",
    "\n",
    "* Зависимость количества просмотров от тематики менее выражена (существенное влияние оказывают множество других факторов):\n",
    "\n",
    "  + Видео с тегами \"новости\", \"деньги\", \"финансы\", \"бизнес\" имеют значимо меньше просмотров, но не из-за тематики, а специфики формата -- под ними идут в основном анонсы стримов, которые имеют малую информативность, и сами стримы, которые не все могут досмотреть полностью из-за большой продолжительности.\n",
    "\n",
    "  + Ролики с тегом \"СССР\" имеют просмотров на 40% меньше среднего -- из-за негативного отношения аудитории к мнению автора по данному вопросу.\n",
    "  \n",
    "При ознакомлении с выводами следует понимать:\n",
    "\n",
    "1. Теги довольно поверхностно отражают содержание видео;\n",
    "2. На просмотры и дизлайки влияют множество взаимосвязанных друг с другом факторов, которые здесь не учитываются;\n",
    "3. Использована довольно малая выборка."
   ]
  },
  {
   "cell_type": "code",
   "execution_count": 142,
   "metadata": {},
   "outputs": [],
   "source": [
    "# Сохранение обработанного датасета\n",
    "df.to_csv('../data/youtube_okhrimenko_final.csv')"
   ]
  },
  {
   "cell_type": "code",
   "execution_count": null,
   "metadata": {
    "collapsed": true
   },
   "outputs": [],
   "source": []
  }
 ],
 "metadata": {
  "kernelspec": {
   "display_name": "Python 3",
   "language": "python",
   "name": "python3"
  },
  "language_info": {
   "codemirror_mode": {
    "name": "ipython",
    "version": 3
   },
   "file_extension": ".py",
   "mimetype": "text/x-python",
   "name": "python",
   "nbconvert_exporter": "python",
   "pygments_lexer": "ipython3",
   "version": "3.5.4"
  }
 },
 "nbformat": 4,
 "nbformat_minor": 2
}
